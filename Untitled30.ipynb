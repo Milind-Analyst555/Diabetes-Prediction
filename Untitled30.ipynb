{
 "cells": [
  {
   "cell_type": "code",
   "execution_count": 1,
   "id": "3f183a3e",
   "metadata": {},
   "outputs": [],
   "source": [
    "import pandas as pd\n",
    "\n",
    "import numpy as np\n",
    "\n",
    "import matplotlib.pyplot as plt\n",
    "\n",
    "import seaborn as sns"
   ]
  },
  {
   "cell_type": "markdown",
   "id": "d20608da",
   "metadata": {},
   "source": [
    "# Step-1 overview of Data_set"
   ]
  },
  {
   "cell_type": "code",
   "execution_count": 2,
   "id": "0eb985ee",
   "metadata": {},
   "outputs": [],
   "source": [
    "dai = pd.read_csv(r\"D:\\Kaggle Data set\\Dibetics Patients\\diabetes_numeric_variables.csv\")"
   ]
  },
  {
   "cell_type": "code",
   "execution_count": 3,
   "id": "213af7e7",
   "metadata": {},
   "outputs": [
    {
     "data": {
      "text/html": [
       "<div>\n",
       "<style scoped>\n",
       "    .dataframe tbody tr th:only-of-type {\n",
       "        vertical-align: middle;\n",
       "    }\n",
       "\n",
       "    .dataframe tbody tr th {\n",
       "        vertical-align: top;\n",
       "    }\n",
       "\n",
       "    .dataframe thead th {\n",
       "        text-align: right;\n",
       "    }\n",
       "</style>\n",
       "<table border=\"1\" class=\"dataframe\">\n",
       "  <thead>\n",
       "    <tr style=\"text-align: right;\">\n",
       "      <th></th>\n",
       "      <th>Patinent_Id</th>\n",
       "      <th>Gender</th>\n",
       "      <th>Age</th>\n",
       "      <th>Hypertension</th>\n",
       "      <th>Heart_Disease</th>\n",
       "      <th>Smoking_History</th>\n",
       "      <th>BMI</th>\n",
       "      <th>HbA1c_Level</th>\n",
       "      <th>Blood_Glucose_Level</th>\n",
       "      <th>Diabetes</th>\n",
       "    </tr>\n",
       "  </thead>\n",
       "  <tbody>\n",
       "    <tr>\n",
       "      <th>0</th>\n",
       "      <td>MangnumHospital_000001</td>\n",
       "      <td>Female</td>\n",
       "      <td>80.0</td>\n",
       "      <td>0</td>\n",
       "      <td>1</td>\n",
       "      <td>never</td>\n",
       "      <td>25.19</td>\n",
       "      <td>6.6</td>\n",
       "      <td>140</td>\n",
       "      <td>0</td>\n",
       "    </tr>\n",
       "    <tr>\n",
       "      <th>1</th>\n",
       "      <td>MangnumHospital_000002</td>\n",
       "      <td>Female</td>\n",
       "      <td>54.0</td>\n",
       "      <td>0</td>\n",
       "      <td>0</td>\n",
       "      <td>No Info</td>\n",
       "      <td>27.32</td>\n",
       "      <td>6.6</td>\n",
       "      <td>80</td>\n",
       "      <td>0</td>\n",
       "    </tr>\n",
       "    <tr>\n",
       "      <th>2</th>\n",
       "      <td>MangnumHospital_000003</td>\n",
       "      <td>Male</td>\n",
       "      <td>28.0</td>\n",
       "      <td>0</td>\n",
       "      <td>0</td>\n",
       "      <td>never</td>\n",
       "      <td>27.32</td>\n",
       "      <td>5.7</td>\n",
       "      <td>158</td>\n",
       "      <td>0</td>\n",
       "    </tr>\n",
       "    <tr>\n",
       "      <th>3</th>\n",
       "      <td>MangnumHospital_000004</td>\n",
       "      <td>Female</td>\n",
       "      <td>36.0</td>\n",
       "      <td>0</td>\n",
       "      <td>0</td>\n",
       "      <td>current</td>\n",
       "      <td>23.45</td>\n",
       "      <td>5.0</td>\n",
       "      <td>155</td>\n",
       "      <td>0</td>\n",
       "    </tr>\n",
       "    <tr>\n",
       "      <th>4</th>\n",
       "      <td>MangnumHospital_000005</td>\n",
       "      <td>Male</td>\n",
       "      <td>76.0</td>\n",
       "      <td>1</td>\n",
       "      <td>1</td>\n",
       "      <td>current</td>\n",
       "      <td>20.14</td>\n",
       "      <td>4.8</td>\n",
       "      <td>155</td>\n",
       "      <td>0</td>\n",
       "    </tr>\n",
       "  </tbody>\n",
       "</table>\n",
       "</div>"
      ],
      "text/plain": [
       "              Patinent_Id  Gender   Age  Hypertension  Heart_Disease  \\\n",
       "0  MangnumHospital_000001  Female  80.0             0              1   \n",
       "1  MangnumHospital_000002  Female  54.0             0              0   \n",
       "2  MangnumHospital_000003    Male  28.0             0              0   \n",
       "3  MangnumHospital_000004  Female  36.0             0              0   \n",
       "4  MangnumHospital_000005    Male  76.0             1              1   \n",
       "\n",
       "  Smoking_History    BMI  HbA1c_Level  Blood_Glucose_Level  Diabetes  \n",
       "0           never  25.19          6.6                  140         0  \n",
       "1         No Info  27.32          6.6                   80         0  \n",
       "2           never  27.32          5.7                  158         0  \n",
       "3         current  23.45          5.0                  155         0  \n",
       "4         current  20.14          4.8                  155         0  "
      ]
     },
     "execution_count": 3,
     "metadata": {},
     "output_type": "execute_result"
    }
   ],
   "source": [
    "dai.head()"
   ]
  },
  {
   "cell_type": "code",
   "execution_count": 4,
   "id": "0811743e",
   "metadata": {},
   "outputs": [
    {
     "data": {
      "text/html": [
       "<div>\n",
       "<style scoped>\n",
       "    .dataframe tbody tr th:only-of-type {\n",
       "        vertical-align: middle;\n",
       "    }\n",
       "\n",
       "    .dataframe tbody tr th {\n",
       "        vertical-align: top;\n",
       "    }\n",
       "\n",
       "    .dataframe thead th {\n",
       "        text-align: right;\n",
       "    }\n",
       "</style>\n",
       "<table border=\"1\" class=\"dataframe\">\n",
       "  <thead>\n",
       "    <tr style=\"text-align: right;\">\n",
       "      <th></th>\n",
       "      <th>Patinent_Id</th>\n",
       "      <th>Gender</th>\n",
       "      <th>Age</th>\n",
       "      <th>Hypertension</th>\n",
       "      <th>Heart_Disease</th>\n",
       "      <th>Smoking_History</th>\n",
       "      <th>BMI</th>\n",
       "      <th>HbA1c_Level</th>\n",
       "      <th>Blood_Glucose_Level</th>\n",
       "      <th>Diabetes</th>\n",
       "    </tr>\n",
       "  </thead>\n",
       "  <tbody>\n",
       "    <tr>\n",
       "      <th>99995</th>\n",
       "      <td>MangnumHospital_099996</td>\n",
       "      <td>Female</td>\n",
       "      <td>80.0</td>\n",
       "      <td>0</td>\n",
       "      <td>0</td>\n",
       "      <td>No Info</td>\n",
       "      <td>27.32</td>\n",
       "      <td>6.2</td>\n",
       "      <td>90</td>\n",
       "      <td>0</td>\n",
       "    </tr>\n",
       "    <tr>\n",
       "      <th>99996</th>\n",
       "      <td>MangnumHospital_099997</td>\n",
       "      <td>Female</td>\n",
       "      <td>2.0</td>\n",
       "      <td>0</td>\n",
       "      <td>0</td>\n",
       "      <td>No Info</td>\n",
       "      <td>17.37</td>\n",
       "      <td>6.5</td>\n",
       "      <td>100</td>\n",
       "      <td>0</td>\n",
       "    </tr>\n",
       "    <tr>\n",
       "      <th>99997</th>\n",
       "      <td>MangnumHospital_099998</td>\n",
       "      <td>Male</td>\n",
       "      <td>66.0</td>\n",
       "      <td>0</td>\n",
       "      <td>0</td>\n",
       "      <td>former</td>\n",
       "      <td>27.83</td>\n",
       "      <td>5.7</td>\n",
       "      <td>155</td>\n",
       "      <td>0</td>\n",
       "    </tr>\n",
       "    <tr>\n",
       "      <th>99998</th>\n",
       "      <td>MangnumHospital_099999</td>\n",
       "      <td>Female</td>\n",
       "      <td>24.0</td>\n",
       "      <td>0</td>\n",
       "      <td>0</td>\n",
       "      <td>never</td>\n",
       "      <td>35.42</td>\n",
       "      <td>4.0</td>\n",
       "      <td>100</td>\n",
       "      <td>0</td>\n",
       "    </tr>\n",
       "    <tr>\n",
       "      <th>99999</th>\n",
       "      <td>MangnumHospital_100000</td>\n",
       "      <td>Female</td>\n",
       "      <td>57.0</td>\n",
       "      <td>0</td>\n",
       "      <td>0</td>\n",
       "      <td>current</td>\n",
       "      <td>22.43</td>\n",
       "      <td>6.6</td>\n",
       "      <td>90</td>\n",
       "      <td>0</td>\n",
       "    </tr>\n",
       "  </tbody>\n",
       "</table>\n",
       "</div>"
      ],
      "text/plain": [
       "                  Patinent_Id  Gender   Age  Hypertension  Heart_Disease  \\\n",
       "99995  MangnumHospital_099996  Female  80.0             0              0   \n",
       "99996  MangnumHospital_099997  Female   2.0             0              0   \n",
       "99997  MangnumHospital_099998    Male  66.0             0              0   \n",
       "99998  MangnumHospital_099999  Female  24.0             0              0   \n",
       "99999  MangnumHospital_100000  Female  57.0             0              0   \n",
       "\n",
       "      Smoking_History    BMI  HbA1c_Level  Blood_Glucose_Level  Diabetes  \n",
       "99995         No Info  27.32          6.2                   90         0  \n",
       "99996         No Info  17.37          6.5                  100         0  \n",
       "99997          former  27.83          5.7                  155         0  \n",
       "99998           never  35.42          4.0                  100         0  \n",
       "99999         current  22.43          6.6                   90         0  "
      ]
     },
     "execution_count": 4,
     "metadata": {},
     "output_type": "execute_result"
    }
   ],
   "source": [
    "dai.tail()"
   ]
  },
  {
   "cell_type": "code",
   "execution_count": 5,
   "id": "cbc7be93",
   "metadata": {},
   "outputs": [
    {
     "data": {
      "text/plain": [
       "(100000, 10)"
      ]
     },
     "execution_count": 5,
     "metadata": {},
     "output_type": "execute_result"
    }
   ],
   "source": [
    "dai.shape"
   ]
  },
  {
   "cell_type": "code",
   "execution_count": 6,
   "id": "7389526e",
   "metadata": {},
   "outputs": [
    {
     "data": {
      "text/plain": [
       "Index(['Patinent_Id', 'Gender', 'Age', 'Hypertension', 'Heart_Disease',\n",
       "       'Smoking_History', 'BMI', 'HbA1c_Level', 'Blood_Glucose_Level',\n",
       "       'Diabetes'],\n",
       "      dtype='object')"
      ]
     },
     "execution_count": 6,
     "metadata": {},
     "output_type": "execute_result"
    }
   ],
   "source": [
    "dai.columns"
   ]
  },
  {
   "cell_type": "markdown",
   "id": "1a3a9173",
   "metadata": {},
   "source": [
    "Non-Numeric columns"
   ]
  },
  {
   "cell_type": "code",
   "execution_count": 7,
   "id": "4fcc3655",
   "metadata": {},
   "outputs": [
    {
     "data": {
      "text/plain": [
       "Index(['Patinent_Id', 'Gender', 'Smoking_History'], dtype='object')"
      ]
     },
     "execution_count": 7,
     "metadata": {},
     "output_type": "execute_result"
    }
   ],
   "source": [
    "dai.select_dtypes(include = 'object').columns"
   ]
  },
  {
   "cell_type": "markdown",
   "id": "37a01a16",
   "metadata": {},
   "source": [
    "Numeric columns"
   ]
  },
  {
   "cell_type": "code",
   "execution_count": 8,
   "id": "9a23c9ff",
   "metadata": {},
   "outputs": [
    {
     "name": "stderr",
     "output_type": "stream",
     "text": [
      "C:\\Users\\91940\\AppData\\Local\\Temp\\ipykernel_4612\\1254375345.py:1: FutureWarning: Index.__or__ operating as a set operation is deprecated, in the future this will be a logical operation matching Series.__or__.  Use index.union(other) instead.\n",
      "  dai[(dai.select_dtypes(include = 'int').columns) |(dai.select_dtypes(include = 'float').columns)].columns\n"
     ]
    },
    {
     "data": {
      "text/plain": [
       "Index(['Age', 'BMI', 'Blood_Glucose_Level', 'Diabetes', 'HbA1c_Level',\n",
       "       'Heart_Disease', 'Hypertension'],\n",
       "      dtype='object')"
      ]
     },
     "execution_count": 8,
     "metadata": {},
     "output_type": "execute_result"
    }
   ],
   "source": [
    "dai[(dai.select_dtypes(include = 'int').columns) |(dai.select_dtypes(include = 'float').columns)].columns"
   ]
  },
  {
   "cell_type": "code",
   "execution_count": 9,
   "id": "e12c0dbe",
   "metadata": {},
   "outputs": [
    {
     "data": {
      "text/plain": [
       "0    91500\n",
       "1     8500\n",
       "Name: Diabetes, dtype: int64"
      ]
     },
     "execution_count": 9,
     "metadata": {},
     "output_type": "execute_result"
    }
   ],
   "source": [
    "dai.Diabetes.value_counts()"
   ]
  },
  {
   "cell_type": "code",
   "execution_count": 10,
   "id": "6acd92b9",
   "metadata": {},
   "outputs": [],
   "source": [
    "lable=[\"Non_Diabetic\",\"Diabetic\"]\n",
    "exp = (0, 0.2)"
   ]
  },
  {
   "cell_type": "code",
   "execution_count": 11,
   "id": "18d3c883",
   "metadata": {},
   "outputs": [
    {
     "data": {
      "image/png": "[encoded data removed]",
      "text/plain": [
       "<Figure size 640x480 with 1 Axes>"
      ]
     },
     "metadata": {},
     "output_type": "display_data"
    }
   ],
   "source": [
    "plt.pie(dai.Diabetes.value_counts(), labels =lable , autopct = '%1.2f%%' , explode = exp);"
   ]
  },
  {
   "cell_type": "markdown",
   "id": "a3a3b853",
   "metadata": {},
   "source": [
    "We can clearly say Data_set have the problem of Class-Inbalance"
   ]
  },
  {
   "cell_type": "markdown",
   "id": "f6ce1bab",
   "metadata": {},
   "source": [
    "# Step 2 General Analysis of Data Set"
   ]
  },
  {
   "cell_type": "code",
   "execution_count": 12,
   "id": "0b984c8f",
   "metadata": {},
   "outputs": [
    {
     "data": {
      "text/html": [
       "<div>\n",
       "<style scoped>\n",
       "    .dataframe tbody tr th:only-of-type {\n",
       "        vertical-align: middle;\n",
       "    }\n",
       "\n",
       "    .dataframe tbody tr th {\n",
       "        vertical-align: top;\n",
       "    }\n",
       "\n",
       "    .dataframe thead th {\n",
       "        text-align: right;\n",
       "    }\n",
       "</style>\n",
       "<table border=\"1\" class=\"dataframe\">\n",
       "  <thead>\n",
       "    <tr style=\"text-align: right;\">\n",
       "      <th></th>\n",
       "      <th>Age</th>\n",
       "      <th>Hypertension</th>\n",
       "      <th>Heart_Disease</th>\n",
       "      <th>BMI</th>\n",
       "      <th>HbA1c_Level</th>\n",
       "      <th>Blood_Glucose_Level</th>\n",
       "      <th>Diabetes</th>\n",
       "    </tr>\n",
       "  </thead>\n",
       "  <tbody>\n",
       "    <tr>\n",
       "      <th>count</th>\n",
       "      <td>100000.000000</td>\n",
       "      <td>100000.00000</td>\n",
       "      <td>100000.000000</td>\n",
       "      <td>100000.000000</td>\n",
       "      <td>100000.000000</td>\n",
       "      <td>100000.000000</td>\n",
       "      <td>100000.000000</td>\n",
       "    </tr>\n",
       "    <tr>\n",
       "      <th>mean</th>\n",
       "      <td>41.885856</td>\n",
       "      <td>0.07485</td>\n",
       "      <td>0.039420</td>\n",
       "      <td>27.320767</td>\n",
       "      <td>5.527507</td>\n",
       "      <td>138.058060</td>\n",
       "      <td>0.085000</td>\n",
       "    </tr>\n",
       "    <tr>\n",
       "      <th>std</th>\n",
       "      <td>22.516840</td>\n",
       "      <td>0.26315</td>\n",
       "      <td>0.194593</td>\n",
       "      <td>6.636783</td>\n",
       "      <td>1.070672</td>\n",
       "      <td>40.708136</td>\n",
       "      <td>0.278883</td>\n",
       "    </tr>\n",
       "    <tr>\n",
       "      <th>min</th>\n",
       "      <td>0.080000</td>\n",
       "      <td>0.00000</td>\n",
       "      <td>0.000000</td>\n",
       "      <td>10.010000</td>\n",
       "      <td>3.500000</td>\n",
       "      <td>80.000000</td>\n",
       "      <td>0.000000</td>\n",
       "    </tr>\n",
       "    <tr>\n",
       "      <th>25%</th>\n",
       "      <td>24.000000</td>\n",
       "      <td>0.00000</td>\n",
       "      <td>0.000000</td>\n",
       "      <td>23.630000</td>\n",
       "      <td>4.800000</td>\n",
       "      <td>100.000000</td>\n",
       "      <td>0.000000</td>\n",
       "    </tr>\n",
       "    <tr>\n",
       "      <th>50%</th>\n",
       "      <td>43.000000</td>\n",
       "      <td>0.00000</td>\n",
       "      <td>0.000000</td>\n",
       "      <td>27.320000</td>\n",
       "      <td>5.800000</td>\n",
       "      <td>140.000000</td>\n",
       "      <td>0.000000</td>\n",
       "    </tr>\n",
       "    <tr>\n",
       "      <th>75%</th>\n",
       "      <td>60.000000</td>\n",
       "      <td>0.00000</td>\n",
       "      <td>0.000000</td>\n",
       "      <td>29.580000</td>\n",
       "      <td>6.200000</td>\n",
       "      <td>159.000000</td>\n",
       "      <td>0.000000</td>\n",
       "    </tr>\n",
       "    <tr>\n",
       "      <th>max</th>\n",
       "      <td>80.000000</td>\n",
       "      <td>1.00000</td>\n",
       "      <td>1.000000</td>\n",
       "      <td>95.690000</td>\n",
       "      <td>9.000000</td>\n",
       "      <td>300.000000</td>\n",
       "      <td>1.000000</td>\n",
       "    </tr>\n",
       "  </tbody>\n",
       "</table>\n",
       "</div>"
      ],
      "text/plain": [
       "                 Age  Hypertension  Heart_Disease            BMI  \\\n",
       "count  100000.000000  100000.00000  100000.000000  100000.000000   \n",
       "mean       41.885856       0.07485       0.039420      27.320767   \n",
       "std        22.516840       0.26315       0.194593       6.636783   \n",
       "min         0.080000       0.00000       0.000000      10.010000   \n",
       "25%        24.000000       0.00000       0.000000      23.630000   \n",
       "50%        43.000000       0.00000       0.000000      27.320000   \n",
       "75%        60.000000       0.00000       0.000000      29.580000   \n",
       "max        80.000000       1.00000       1.000000      95.690000   \n",
       "\n",
       "         HbA1c_Level  Blood_Glucose_Level       Diabetes  \n",
       "count  100000.000000        100000.000000  100000.000000  \n",
       "mean        5.527507           138.058060       0.085000  \n",
       "std         1.070672            40.708136       0.278883  \n",
       "min         3.500000            80.000000       0.000000  \n",
       "25%         4.800000           100.000000       0.000000  \n",
       "50%         5.800000           140.000000       0.000000  \n",
       "75%         6.200000           159.000000       0.000000  \n",
       "max         9.000000           300.000000       1.000000  "
      ]
     },
     "execution_count": 12,
     "metadata": {},
     "output_type": "execute_result"
    }
   ],
   "source": [
    "dai.describe()"
   ]
  },
  {
   "cell_type": "markdown",
   "id": "2bda0b4d",
   "metadata": {},
   "source": [
    "Creat the two separte Data Frame into Diabetic patients and Non-Diabetic patients for better understanding "
   ]
  },
  {
   "cell_type": "code",
   "execution_count": 13,
   "id": "d2eb44e3",
   "metadata": {},
   "outputs": [],
   "source": [
    "diabetic = dai[dai.Diabetes ==1]\n",
    "non_diabetic = dai[dai.Diabetes ==0]"
   ]
  },
  {
   "cell_type": "markdown",
   "id": "a9fdfe90",
   "metadata": {},
   "source": [
    "# Analysis of Diabetic Patients and Non-Diabetic Patients According to Hypertension and Heart_Disease"
   ]
  },
  {
   "cell_type": "code",
   "execution_count": 14,
   "id": "0d1e7d18",
   "metadata": {},
   "outputs": [
    {
     "name": "stderr",
     "output_type": "stream",
     "text": [
      "C:\\ProgramData\\Anaconda3\\lib\\site-packages\\seaborn\\_decorators.py:36: FutureWarning: Pass the following variable as a keyword arg: x. From version 0.12, the only valid positional argument will be `data`, and passing other arguments without an explicit keyword will result in an error or misinterpretation.\n",
      "  warnings.warn(\n"
     ]
    },
    {
     "data": {
      "image/png": "[encoded data removed]",
      "text/plain": [
       "<Figure size 640x480 with 1 Axes>"
      ]
     },
     "metadata": {},
     "output_type": "display_data"
    }
   ],
   "source": [
    "sns.countplot(diabetic.Diabetes , hue=diabetic.Hypertension );\n",
    "plt.xlabel(\"Diabetic Patients\")\n",
    "plt.grid()\n",
    "\n",
    "# more than 25% people who are suffering form Diabetes they also have a Hypertension"
   ]
  },
  {
   "cell_type": "code",
   "execution_count": 15,
   "id": "076754a1",
   "metadata": {},
   "outputs": [
    {
     "name": "stderr",
     "output_type": "stream",
     "text": [
      "C:\\ProgramData\\Anaconda3\\lib\\site-packages\\seaborn\\_decorators.py:36: FutureWarning: Pass the following variable as a keyword arg: x. From version 0.12, the only valid positional argument will be `data`, and passing other arguments without an explicit keyword will result in an error or misinterpretation.\n",
      "  warnings.warn(\n"
     ]
    },
    {
     "data": {
      "image/png": "[encoded data removed]",
      "text/plain": [
       "<Figure size 640x480 with 1 Axes>"
      ]
     },
     "metadata": {},
     "output_type": "display_data"
    }
   ],
   "source": [
    "sns.countplot(diabetic.Diabetes , hue=diabetic.Heart_Disease );\n",
    "plt.xlabel(\"Diabetic Patients\")\n",
    "plt.grid()\n",
    "\n",
    "# more than 20% people who are suffering form Diabetes they also have a Heart_Disease"
   ]
  },
  {
   "cell_type": "code",
   "execution_count": 16,
   "id": "785fb552",
   "metadata": {},
   "outputs": [
    {
     "name": "stderr",
     "output_type": "stream",
     "text": [
      "C:\\ProgramData\\Anaconda3\\lib\\site-packages\\seaborn\\_decorators.py:36: FutureWarning: Pass the following variable as a keyword arg: x. From version 0.12, the only valid positional argument will be `data`, and passing other arguments without an explicit keyword will result in an error or misinterpretation.\n",
      "  warnings.warn(\n"
     ]
    },
    {
     "data": {
      "image/png": "[encoded data removed]",
      "text/plain": [
       "<Figure size 640x480 with 1 Axes>"
      ]
     },
     "metadata": {},
     "output_type": "display_data"
    }
   ],
   "source": [
    "sns.countplot(non_diabetic.Diabetes , hue=non_diabetic.Heart_Disease );\n",
    "plt.xlabel(\"Non-Diabetic Patients\")\n",
    "plt.grid()"
   ]
  },
  {
   "cell_type": "code",
   "execution_count": 17,
   "id": "b6a5d8d3",
   "metadata": {},
   "outputs": [
    {
     "name": "stderr",
     "output_type": "stream",
     "text": [
      "C:\\ProgramData\\Anaconda3\\lib\\site-packages\\seaborn\\_decorators.py:36: FutureWarning: Pass the following variable as a keyword arg: x. From version 0.12, the only valid positional argument will be `data`, and passing other arguments without an explicit keyword will result in an error or misinterpretation.\n",
      "  warnings.warn(\n"
     ]
    },
    {
     "data": {
      "image/png": "[encoded data removed]",
      "text/plain": [
       "<Figure size 640x480 with 1 Axes>"
      ]
     },
     "metadata": {},
     "output_type": "display_data"
    }
   ],
   "source": [
    "sns.countplot(non_diabetic.Diabetes , hue=non_diabetic.Hypertension );\n",
    "plt.xlabel(\"Non-Diabetic Patients\")\n",
    "plt.grid()"
   ]
  },
  {
   "cell_type": "markdown",
   "id": "cb2cb9ae",
   "metadata": {},
   "source": [
    "# Analysis of all Patients on Body Max Index"
   ]
  },
  {
   "cell_type": "code",
   "execution_count": 18,
   "id": "44d0d08c",
   "metadata": {},
   "outputs": [
    {
     "name": "stderr",
     "output_type": "stream",
     "text": [
      "C:\\ProgramData\\Anaconda3\\lib\\site-packages\\seaborn\\_decorators.py:36: FutureWarning: Pass the following variables as keyword args: x, y. From version 0.12, the only valid positional argument will be `data`, and passing other arguments without an explicit keyword will result in an error or misinterpretation.\n",
      "  warnings.warn(\n"
     ]
    },
    {
     "data": {
      "text/plain": [
       "Text(0.5, 0, 'Non-Dibetic                 Diabetic')"
      ]
     },
     "execution_count": 18,
     "metadata": {},
     "output_type": "execute_result"
    },
    {
     "data": {
      "image/png": "[encoded data removed]",
      "text/plain": [
       "<Figure size 640x480 with 1 Axes>"
      ]
     },
     "metadata": {},
     "output_type": "display_data"
    }
   ],
   "source": [
    "sns.boxplot(dai.Diabetes , dai.BMI)\n",
    "plt.xlabel(\"Non-Dibetic                 Diabetic\")"
   ]
  },
  {
   "cell_type": "markdown",
   "id": "282991d0",
   "metadata": {},
   "source": [
    "# Analysis of all Patients on Blood_Glucose_level"
   ]
  },
  {
   "cell_type": "code",
   "execution_count": 19,
   "id": "de5a910c",
   "metadata": {},
   "outputs": [
    {
     "name": "stderr",
     "output_type": "stream",
     "text": [
      "C:\\ProgramData\\Anaconda3\\lib\\site-packages\\seaborn\\_decorators.py:36: FutureWarning: Pass the following variables as keyword args: x, y. From version 0.12, the only valid positional argument will be `data`, and passing other arguments without an explicit keyword will result in an error or misinterpretation.\n",
      "  warnings.warn(\n"
     ]
    },
    {
     "data": {
      "text/plain": [
       "Text(0.5, 0, 'Non-Dibetic                       Diabetic')"
      ]
     },
     "execution_count": 19,
     "metadata": {},
     "output_type": "execute_result"
    },
    {
     "data": {
      "image/png": "[encoded data removed]",
      "text/plain": [
       "<Figure size 640x480 with 1 Axes>"
      ]
     },
     "metadata": {},
     "output_type": "display_data"
    }
   ],
   "source": [
    "sns.boxplot(dai.Diabetes , dai.Blood_Glucose_Level)\n",
    "plt.xlabel(\"Non-Dibetic                       Diabetic\")"
   ]
  },
  {
   "cell_type": "markdown",
   "id": "e81819cc",
   "metadata": {},
   "source": [
    "# Analysis of all Patients on HbA1c_Level"
   ]
  },
  {
   "cell_type": "code",
   "execution_count": 20,
   "id": "0426a73a",
   "metadata": {},
   "outputs": [
    {
     "name": "stderr",
     "output_type": "stream",
     "text": [
      "C:\\ProgramData\\Anaconda3\\lib\\site-packages\\seaborn\\_decorators.py:36: FutureWarning: Pass the following variables as keyword args: x, y. From version 0.12, the only valid positional argument will be `data`, and passing other arguments without an explicit keyword will result in an error or misinterpretation.\n",
      "  warnings.warn(\n"
     ]
    },
    {
     "data": {
      "text/plain": [
       "Text(0.5, 0, 'Non-Dibetic                       Diabetic')"
      ]
     },
     "execution_count": 20,
     "metadata": {},
     "output_type": "execute_result"
    },
    {
     "data": {
      "image/png": "[encoded data removed]",
      "text/plain": [
       "<Figure size 640x480 with 1 Axes>"
      ]
     },
     "metadata": {},
     "output_type": "display_data"
    }
   ],
   "source": [
    "sns.boxplot(dai.Diabetes , dai.HbA1c_Level)\n",
    "plt.xlabel(\"Non-Dibetic                       Diabetic\")"
   ]
  },
  {
   "cell_type": "markdown",
   "id": "1c8cedad",
   "metadata": {},
   "source": [
    "# Analysis By Age"
   ]
  },
  {
   "cell_type": "code",
   "execution_count": 21,
   "id": "9ccaf12c",
   "metadata": {},
   "outputs": [
    {
     "name": "stderr",
     "output_type": "stream",
     "text": [
      "C:\\ProgramData\\Anaconda3\\lib\\site-packages\\seaborn\\_decorators.py:36: FutureWarning: Pass the following variables as keyword args: x, y. From version 0.12, the only valid positional argument will be `data`, and passing other arguments without an explicit keyword will result in an error or misinterpretation.\n",
      "  warnings.warn(\n"
     ]
    },
    {
     "data": {
      "text/plain": [
       "<AxesSubplot:xlabel='Diabetes', ylabel='Age'>"
      ]
     },
     "execution_count": 21,
     "metadata": {},
     "output_type": "execute_result"
    },
    {
     "data": {
      "image/png": "[encoded data removed]",
      "text/plain": [
       "<Figure size 640x480 with 1 Axes>"
      ]
     },
     "metadata": {},
     "output_type": "display_data"
    }
   ],
   "source": [
    "sns.boxplot(dai.Diabetes , dai.Age)"
   ]
  },
  {
   "cell_type": "code",
   "execution_count": 22,
   "id": "31b4b7df",
   "metadata": {},
   "outputs": [],
   "source": [
    "# Here by analysing Data we can say that the Diabetes may be found in person having high Blood_Glucose level ,HbAc1-Level and BMI "
   ]
  },
  {
   "cell_type": "markdown",
   "id": "8bbaf48e",
   "metadata": {},
   "source": [
    "# Step 3 Data Preprocessing "
   ]
  },
  {
   "cell_type": "code",
   "execution_count": 23,
   "id": "9d858751",
   "metadata": {},
   "outputs": [],
   "source": [
    "dai = dai.drop('Patinent_Id', axis = 1)\n",
    "\n",
    "#Here we drop the unique Identifier column"
   ]
  },
  {
   "cell_type": "code",
   "execution_count": 24,
   "id": "7dc53776",
   "metadata": {},
   "outputs": [
    {
     "data": {
      "text/plain": [
       "Index(['Gender', 'Smoking_History'], dtype='object')"
      ]
     },
     "execution_count": 24,
     "metadata": {},
     "output_type": "execute_result"
    }
   ],
   "source": [
    "dai.select_dtypes(include = 'object').columns"
   ]
  },
  {
   "cell_type": "code",
   "execution_count": 25,
   "id": "206a0498",
   "metadata": {},
   "outputs": [],
   "source": [
    "from sklearn.preprocessing import LabelEncoder\n",
    "le =  LabelEncoder()"
   ]
  },
  {
   "cell_type": "code",
   "execution_count": 26,
   "id": "ea5ae0e7",
   "metadata": {},
   "outputs": [],
   "source": [
    "dai[dai.select_dtypes(include = 'object').columns]=dai[dai.select_dtypes(include = 'object').columns].apply(le.fit_transform)"
   ]
  },
  {
   "cell_type": "code",
   "execution_count": 27,
   "id": "f1dfff04",
   "metadata": {},
   "outputs": [
    {
     "data": {
      "text/plain": [
       "Index([], dtype='object')"
      ]
     },
     "execution_count": 27,
     "metadata": {},
     "output_type": "execute_result"
    }
   ],
   "source": [
    "dai.select_dtypes(include = 'object').columns"
   ]
  },
  {
   "cell_type": "code",
   "execution_count": 28,
   "id": "79c7e506",
   "metadata": {},
   "outputs": [
    {
     "data": {
      "text/plain": [
       "Gender                 0\n",
       "Age                    0\n",
       "Hypertension           0\n",
       "Heart_Disease          0\n",
       "Smoking_History        0\n",
       "BMI                    0\n",
       "HbA1c_Level            0\n",
       "Blood_Glucose_Level    0\n",
       "Diabetes               0\n",
       "dtype: int64"
      ]
     },
     "execution_count": 28,
     "metadata": {},
     "output_type": "execute_result"
    }
   ],
   "source": [
    "dai.isnull().sum()"
   ]
  },
  {
   "cell_type": "code",
   "execution_count": 29,
   "id": "0631f90b",
   "metadata": {},
   "outputs": [
    {
     "name": "stdout",
     "output_type": "stream",
     "text": [
      "<class 'pandas.core.frame.DataFrame'>\n",
      "RangeIndex: 100000 entries, 0 to 99999\n",
      "Data columns (total 9 columns):\n",
      " #   Column               Non-Null Count   Dtype  \n",
      "---  ------               --------------   -----  \n",
      " 0   Gender               100000 non-null  int32  \n",
      " 1   Age                  100000 non-null  float64\n",
      " 2   Hypertension         100000 non-null  int64  \n",
      " 3   Heart_Disease        100000 non-null  int64  \n",
      " 4   Smoking_History      100000 non-null  int32  \n",
      " 5   BMI                  100000 non-null  float64\n",
      " 6   HbA1c_Level          100000 non-null  float64\n",
      " 7   Blood_Glucose_Level  100000 non-null  int64  \n",
      " 8   Diabetes             100000 non-null  int64  \n",
      "dtypes: float64(3), int32(2), int64(4)\n",
      "memory usage: 6.1 MB\n"
     ]
    }
   ],
   "source": [
    "dai.info()"
   ]
  },
  {
   "cell_type": "code",
   "execution_count": 30,
   "id": "1658e566",
   "metadata": {},
   "outputs": [],
   "source": [
    "# Data preprocessing is completed"
   ]
  },
  {
   "cell_type": "markdown",
   "id": "976edb92",
   "metadata": {},
   "source": [
    "# Step 4 Random Sampling"
   ]
  },
  {
   "cell_type": "code",
   "execution_count": 31,
   "id": "8368ba43",
   "metadata": {},
   "outputs": [],
   "source": [
    "from sklearn.model_selection import train_test_split"
   ]
  },
  {
   "cell_type": "code",
   "execution_count": 32,
   "id": "d18eff92",
   "metadata": {},
   "outputs": [],
   "source": [
    "dai_train , dai_test = train_test_split(dai , test_size = .3)"
   ]
  },
  {
   "cell_type": "code",
   "execution_count": 33,
   "id": "ca59f16c",
   "metadata": {},
   "outputs": [],
   "source": [
    "dai_train_x = dai_train.iloc[:,0:-1]\n",
    "\n",
    "dai_train_y = dai_train.iloc[:,-1]\n",
    "\n",
    "dai_test_x = dai_test.iloc[:,0:-1]\n",
    "\n",
    "dai_test_y = dai_test.iloc[:,-1]"
   ]
  },
  {
   "cell_type": "code",
   "execution_count": 34,
   "id": "30e95bce",
   "metadata": {},
   "outputs": [
    {
     "name": "stdout",
     "output_type": "stream",
     "text": [
      "dai_train_x : (70000, 8)\n",
      "dai_train_y : (70000,)\n",
      "dai_test_x : (30000, 8)\n",
      "dai_test_x : (30000,)\n",
      "(100000, 9)\n"
     ]
    }
   ],
   "source": [
    "print('dai_train_x :',dai_train_x.shape)\n",
    "print('dai_train_y :',dai_train_y.shape)\n",
    "print('dai_test_x :',dai_test_x.shape)\n",
    "print('dai_test_x :',dai_test_y.shape)\n",
    "print(dai.shape)"
   ]
  },
  {
   "cell_type": "code",
   "execution_count": 35,
   "id": "8242652e",
   "metadata": {},
   "outputs": [
    {
     "data": {
      "text/plain": [
       "Index(['Gender', 'Age', 'Hypertension', 'Heart_Disease', 'Smoking_History',\n",
       "       'BMI', 'HbA1c_Level', 'Blood_Glucose_Level', 'Diabetes'],\n",
       "      dtype='object')"
      ]
     },
     "execution_count": 35,
     "metadata": {},
     "output_type": "execute_result"
    }
   ],
   "source": [
    "dai.columns"
   ]
  },
  {
   "cell_type": "code",
   "execution_count": 36,
   "id": "6b41f994",
   "metadata": {},
   "outputs": [
    {
     "data": {
      "text/plain": [
       "0    91500\n",
       "1     8500\n",
       "Name: Diabetes, dtype: int64"
      ]
     },
     "execution_count": 36,
     "metadata": {},
     "output_type": "execute_result"
    }
   ],
   "source": [
    "dai.Diabetes.value_counts()"
   ]
  },
  {
   "cell_type": "code",
   "execution_count": 37,
   "id": "38eae62c",
   "metadata": {},
   "outputs": [],
   "source": [
    "# We can Observe that Data have the problem of Class in balancing \n",
    "\n",
    "# Hence to deal with the problem of class in balancing we have to use Smote \n",
    "\n",
    "# smote will create new matching records"
   ]
  },
  {
   "cell_type": "code",
   "execution_count": 38,
   "id": "22aac1a7",
   "metadata": {},
   "outputs": [
    {
     "data": {
      "text/plain": [
       "0    63961\n",
       "1     6039\n",
       "Name: Diabetes, dtype: int64"
      ]
     },
     "execution_count": 38,
     "metadata": {},
     "output_type": "execute_result"
    }
   ],
   "source": [
    "dai_train.Diabetes.value_counts()"
   ]
  },
  {
   "cell_type": "code",
   "execution_count": 39,
   "id": "8f50e5db",
   "metadata": {},
   "outputs": [],
   "source": [
    "from imblearn.over_sampling import SMOTE\n",
    "\n",
    "smt = SMOTE()"
   ]
  },
  {
   "cell_type": "code",
   "execution_count": 40,
   "id": "12255c38",
   "metadata": {},
   "outputs": [
    {
     "data": {
      "text/plain": [
       "SMOTE()"
      ]
     },
     "execution_count": 40,
     "metadata": {},
     "output_type": "execute_result"
    }
   ],
   "source": [
    "smt.fit(dai_train_x  , dai_train_y)"
   ]
  },
  {
   "cell_type": "code",
   "execution_count": 41,
   "id": "f000a017",
   "metadata": {},
   "outputs": [],
   "source": [
    "dai_x_train , dai_y_train = smt.fit_resample(dai_train_x  , dai_train_y)"
   ]
  },
  {
   "cell_type": "code",
   "execution_count": 42,
   "id": "85e0672a",
   "metadata": {},
   "outputs": [
    {
     "data": {
      "text/plain": [
       "0    63961\n",
       "1    63961\n",
       "Name: Diabetes, dtype: int64"
      ]
     },
     "execution_count": 42,
     "metadata": {},
     "output_type": "execute_result"
    }
   ],
   "source": [
    "dai_y_train.value_counts()"
   ]
  },
  {
   "cell_type": "code",
   "execution_count": null,
   "id": "01caf56d",
   "metadata": {},
   "outputs": [],
   "source": []
  },
  {
   "cell_type": "code",
   "execution_count": 43,
   "id": "5c725238",
   "metadata": {},
   "outputs": [
    {
     "name": "stdout",
     "output_type": "stream",
     "text": [
      "dai_x_train : (127922, 8)\n",
      "dai_y_train : (127922,)\n",
      "dai_test_x : (30000, 8)\n",
      "dai_test_x : (30000,)\n"
     ]
    }
   ],
   "source": [
    "print('dai_x_train :',dai_x_train.shape)\n",
    "print('dai_y_train :',dai_y_train.shape)\n",
    "print('dai_test_x :',dai_test_x.shape)\n",
    "print('dai_test_x :',dai_test_y.shape)\n",
    "#print(dai.shape)"
   ]
  },
  {
   "cell_type": "markdown",
   "id": "a1b22543",
   "metadata": {},
   "source": [
    "# Step 5 Model Buliding "
   ]
  },
  {
   "cell_type": "code",
   "execution_count": 44,
   "id": "8253fad8",
   "metadata": {},
   "outputs": [],
   "source": [
    "from sklearn.tree import DecisionTreeClassifier\n",
    "dt = DecisionTreeClassifier(criterion='gini',max_depth=6)\n",
    "\n",
    "from sklearn.ensemble import RandomForestClassifier\n",
    "rfc = RandomForestClassifier(n_estimators=115,criterion='gini',max_depth=8)\n",
    "\n",
    "from sklearn.ensemble import GradientBoostingClassifier\n",
    "gdbc = GradientBoostingClassifier(n_estimators=135)\n",
    "\n",
    "from sklearn.linear_model import LogisticRegression\n",
    "logreg = LogisticRegression()\n",
    "\n",
    "from sklearn.naive_bayes import MultinomialNB\n",
    "nb = MultinomialNB()\n",
    "\n",
    "#from sklearn.svm import SVC\n",
    "from sklearn.neighbors import KNeighborsClassifier\n",
    "knn = KNeighborsClassifier(n_neighbors=289)"
   ]
  },
  {
   "cell_type": "code",
   "execution_count": 45,
   "id": "270befda",
   "metadata": {},
   "outputs": [
    {
     "data": {
      "text/plain": [
       "DecisionTreeClassifier(max_depth=6)"
      ]
     },
     "execution_count": 45,
     "metadata": {},
     "output_type": "execute_result"
    }
   ],
   "source": [
    "dt.fit(dai_x_train , dai_y_train)"
   ]
  },
  {
   "cell_type": "code",
   "execution_count": 46,
   "id": "8ddcef41",
   "metadata": {},
   "outputs": [
    {
     "data": {
      "text/plain": [
       "RandomForestClassifier(max_depth=8, n_estimators=115)"
      ]
     },
     "execution_count": 46,
     "metadata": {},
     "output_type": "execute_result"
    }
   ],
   "source": [
    "rfc.fit(dai_x_train , dai_y_train)"
   ]
  },
  {
   "cell_type": "code",
   "execution_count": 47,
   "id": "59e7a53a",
   "metadata": {},
   "outputs": [
    {
     "data": {
      "text/plain": [
       "GradientBoostingClassifier(n_estimators=135)"
      ]
     },
     "execution_count": 47,
     "metadata": {},
     "output_type": "execute_result"
    }
   ],
   "source": [
    "gdbc.fit(dai_x_train , dai_y_train)"
   ]
  },
  {
   "cell_type": "code",
   "execution_count": 48,
   "id": "3b7e0b37",
   "metadata": {},
   "outputs": [
    {
     "name": "stderr",
     "output_type": "stream",
     "text": [
      "C:\\ProgramData\\Anaconda3\\lib\\site-packages\\sklearn\\linear_model\\_logistic.py:814: ConvergenceWarning: lbfgs failed to converge (status=1):\n",
      "STOP: TOTAL NO. of ITERATIONS REACHED LIMIT.\n",
      "\n",
      "Increase the number of iterations (max_iter) or scale the data as shown in:\n",
      "    https://scikit-learn.org/stable/modules/preprocessing.html\n",
      "Please also refer to the documentation for alternative solver options:\n",
      "    https://scikit-learn.org/stable/modules/linear_model.html#logistic-regression\n",
      "  n_iter_i = _check_optimize_result(\n"
     ]
    },
    {
     "data": {
      "text/plain": [
       "LogisticRegression()"
      ]
     },
     "execution_count": 48,
     "metadata": {},
     "output_type": "execute_result"
    }
   ],
   "source": [
    "logreg.fit(dai_x_train , dai_y_train)"
   ]
  },
  {
   "cell_type": "code",
   "execution_count": 49,
   "id": "47bc8b9b",
   "metadata": {},
   "outputs": [
    {
     "data": {
      "text/plain": [
       "MultinomialNB()"
      ]
     },
     "execution_count": 49,
     "metadata": {},
     "output_type": "execute_result"
    }
   ],
   "source": [
    "nb.fit(dai_x_train , dai_y_train)"
   ]
  },
  {
   "cell_type": "code",
   "execution_count": 50,
   "id": "23c2d205",
   "metadata": {},
   "outputs": [
    {
     "data": {
      "text/plain": [
       "KNeighborsClassifier(n_neighbors=289)"
      ]
     },
     "execution_count": 50,
     "metadata": {},
     "output_type": "execute_result"
    }
   ],
   "source": [
    "knn.fit(dai_x_train , dai_y_train)"
   ]
  },
  {
   "cell_type": "code",
   "execution_count": 51,
   "id": "b2e1f1a3",
   "metadata": {},
   "outputs": [],
   "source": [
    "pred_dt = dt.predict(dai_test_x)"
   ]
  },
  {
   "cell_type": "code",
   "execution_count": 52,
   "id": "6ad6ddca",
   "metadata": {},
   "outputs": [],
   "source": [
    "pred_rfc = rfc.predict(dai_test_x)"
   ]
  },
  {
   "cell_type": "code",
   "execution_count": 53,
   "id": "148a05b5",
   "metadata": {},
   "outputs": [],
   "source": [
    "pred_nb = nb.predict(dai_test_x)"
   ]
  },
  {
   "cell_type": "code",
   "execution_count": 54,
   "id": "327315be",
   "metadata": {},
   "outputs": [],
   "source": [
    "pred_logreg = logreg.predict(dai_test_x)"
   ]
  },
  {
   "cell_type": "code",
   "execution_count": 55,
   "id": "45c90fdd",
   "metadata": {},
   "outputs": [
    {
     "name": "stderr",
     "output_type": "stream",
     "text": [
      "C:\\ProgramData\\Anaconda3\\lib\\site-packages\\sklearn\\neighbors\\_classification.py:228: FutureWarning: Unlike other reduction functions (e.g. `skew`, `kurtosis`), the default behavior of `mode` typically preserves the axis it acts along. In SciPy 1.11.0, this behavior will change: the default value of `keepdims` will become False, the `axis` over which the statistic is taken will be eliminated, and the value None will no longer be accepted. Set `keepdims` to True or False to avoid this warning.\n",
      "  mode, _ = stats.mode(_y[neigh_ind, k], axis=1)\n"
     ]
    }
   ],
   "source": [
    "pred_knn = knn.predict(dai_test_x)"
   ]
  },
  {
   "cell_type": "code",
   "execution_count": 56,
   "id": "439eccf2",
   "metadata": {},
   "outputs": [],
   "source": [
    "pred_gdbc = logreg.predict(dai_test_x)"
   ]
  },
  {
   "cell_type": "code",
   "execution_count": 57,
   "id": "3c4ef972",
   "metadata": {},
   "outputs": [
    {
     "ename": "NameError",
     "evalue": "name 'iiii' is not defined",
     "output_type": "error",
     "traceback": [
      "\u001b[1;31m---------------------------------------------------------------------------\u001b[0m",
      "\u001b[1;31mNameError\u001b[0m                                 Traceback (most recent call last)",
      "\u001b[1;32m~\\AppData\\Local\\Temp\\ipykernel_4612\\327409688.py\u001b[0m in \u001b[0;36m<module>\u001b[1;34m\u001b[0m\n\u001b[1;32m----> 1\u001b[1;33m \u001b[0miiii\u001b[0m\u001b[1;33m\u001b[0m\u001b[1;33m\u001b[0m\u001b[0m\n\u001b[0m",
      "\u001b[1;31mNameError\u001b[0m: name 'iiii' is not defined"
     ]
    }
   ],
   "source": [
    "iiii"
   ]
  },
  {
   "cell_type": "markdown",
   "id": "152b3dcf",
   "metadata": {},
   "source": [
    "# Step 6 Evaluate Preformance Model"
   ]
  },
  {
   "cell_type": "code",
   "execution_count": 58,
   "id": "c2516b4b",
   "metadata": {},
   "outputs": [],
   "source": [
    "from sklearn.metrics import accuracy_score , confusion_matrix , precision_score ,recall_score,f1_score   \n",
    "list_1 = [confusion_matrix ,accuracy_score ,recall_score , precision_score, f1_score   ]"
   ]
  },
  {
   "cell_type": "code",
   "execution_count": 59,
   "id": "d34b037a",
   "metadata": {},
   "outputs": [],
   "source": [
    "list_2 = [(pred_rfc , \"RandomForestClassifier\"),(pred_dt , \"Decision Tree\"),(pred_nb , \"Naive Bayes\"),\n",
    "          (pred_logreg , \"Logistic Regression\"),(pred_knn , \"K_Nearest_Neighbour\"),(pred_gdbc , \"Grandient_Boosting_Classifier\")]"
   ]
  },
  {
   "cell_type": "code",
   "execution_count": 60,
   "id": "415688d3",
   "metadata": {},
   "outputs": [
    {
     "name": "stdout",
     "output_type": "stream",
     "text": [
      "[[25209  2330]\n",
      " [  356  2105]] <function confusion_matrix at 0x000002949D4C81F0> RandomForestClassifier\n",
      "\n",
      "---------------------------\n",
      "0.9104666666666666 <function accuracy_score at 0x000002949D4C8160> RandomForestClassifier\n",
      "\n",
      "---------------------------\n",
      "0.8553433563592036 <function recall_score at 0x000002949D4C8940> RandomForestClassifier\n",
      "\n",
      "---------------------------\n",
      "0.4746335963923337 <function precision_score at 0x000002949D4C88B0> RandomForestClassifier\n",
      "\n",
      "---------------------------\n",
      "0.6104988399071926 <function f1_score at 0x000002949D4C8550> RandomForestClassifier\n",
      "\n",
      "---------------------------\n",
      "[[24404  3135]\n",
      " [  343  2118]] <function confusion_matrix at 0x000002949D4C81F0> Decision Tree\n",
      "\n",
      "---------------------------\n",
      "0.8840666666666667 <function accuracy_score at 0x000002949D4C8160> Decision Tree\n",
      "\n",
      "---------------------------\n",
      "0.8606257618854124 <function recall_score at 0x000002949D4C8940> Decision Tree\n",
      "\n",
      "---------------------------\n",
      "0.40319817247287265 <function precision_score at 0x000002949D4C88B0> Decision Tree\n",
      "\n",
      "---------------------------\n",
      "0.5491314493129376 <function f1_score at 0x000002949D4C8550> Decision Tree\n",
      "\n",
      "---------------------------\n",
      "[[18093  9446]\n",
      " [  870  1591]] <function confusion_matrix at 0x000002949D4C81F0> Naive Bayes\n",
      "\n",
      "---------------------------\n",
      "0.6561333333333333 <function accuracy_score at 0x000002949D4C8160> Naive Bayes\n",
      "\n",
      "---------------------------\n",
      "0.646485168630638 <function recall_score at 0x000002949D4C8940> Naive Bayes\n",
      "\n",
      "---------------------------\n",
      "0.1441514904412431 <function precision_score at 0x000002949D4C88B0> Naive Bayes\n",
      "\n",
      "---------------------------\n",
      "0.2357386279448807 <function f1_score at 0x000002949D4C8550> Naive Bayes\n",
      "\n",
      "---------------------------\n",
      "[[24433  3106]\n",
      " [  349  2112]] <function confusion_matrix at 0x000002949D4C81F0> Logistic Regression\n",
      "\n",
      "---------------------------\n",
      "0.8848333333333334 <function accuracy_score at 0x000002949D4C8160> Logistic Regression\n",
      "\n",
      "---------------------------\n",
      "0.8581877285656238 <function recall_score at 0x000002949D4C8940> Logistic Regression\n",
      "\n",
      "---------------------------\n",
      "0.40475277884246835 <function precision_score at 0x000002949D4C88B0> Logistic Regression\n",
      "\n",
      "---------------------------\n",
      "0.5500716239093631 <function f1_score at 0x000002949D4C8550> Logistic Regression\n",
      "\n",
      "---------------------------\n",
      "[[22481  5058]\n",
      " [  289  2172]] <function confusion_matrix at 0x000002949D4C81F0> K_Nearest_Neighbour\n",
      "\n",
      "---------------------------\n",
      "0.8217666666666666 <function accuracy_score at 0x000002949D4C8160> K_Nearest_Neighbour\n",
      "\n",
      "---------------------------\n",
      "0.8825680617635108 <function recall_score at 0x000002949D4C8940> K_Nearest_Neighbour\n",
      "\n",
      "---------------------------\n",
      "0.3004149377593361 <function precision_score at 0x000002949D4C88B0> K_Nearest_Neighbour\n",
      "\n",
      "---------------------------\n",
      "0.44825095449386027 <function f1_score at 0x000002949D4C8550> K_Nearest_Neighbour\n",
      "\n",
      "---------------------------\n",
      "[[24433  3106]\n",
      " [  349  2112]] <function confusion_matrix at 0x000002949D4C81F0> Grandient_Boosting_Classifier\n",
      "\n",
      "---------------------------\n",
      "0.8848333333333334 <function accuracy_score at 0x000002949D4C8160> Grandient_Boosting_Classifier\n",
      "\n",
      "---------------------------\n",
      "0.8581877285656238 <function recall_score at 0x000002949D4C8940> Grandient_Boosting_Classifier\n",
      "\n",
      "---------------------------\n",
      "0.40475277884246835 <function precision_score at 0x000002949D4C88B0> Grandient_Boosting_Classifier\n",
      "\n",
      "---------------------------\n",
      "0.5500716239093631 <function f1_score at 0x000002949D4C8550> Grandient_Boosting_Classifier\n",
      "\n",
      "---------------------------\n"
     ]
    }
   ],
   "source": [
    "for j , k in list_2:\n",
    "    for i in list_1:\n",
    "        print(i(dai_test_y , j) , i , k)\n",
    "        print()\n",
    "        print(\"---------------------------\")"
   ]
  },
  {
   "cell_type": "code",
   "execution_count": null,
   "id": "ecb1857a",
   "metadata": {},
   "outputs": [],
   "source": [
    "# Here we got Highest Accuracy for the Randomforest & Decision-Tree algorithm but both the algorithms gives the poor result for class Tpr  "
   ]
  },
  {
   "cell_type": "markdown",
   "id": "e33199f2",
   "metadata": {},
   "source": [
    "# Hyper parameter tunning"
   ]
  },
  {
   "cell_type": "code",
   "execution_count": 61,
   "id": "41a7138c",
   "metadata": {},
   "outputs": [],
   "source": [
    "\n",
    "\n",
    "from sklearn.model_selection import GridSearchCV\n",
    "from sklearn.tree import DecisionTreeClassifier\n",
    "from sklearn.ensemble import RandomForestClassifier\n",
    "rfc = RandomForestClassifier()\n",
    "dt = DecisionTreeClassifier()"
   ]
  },
  {
   "cell_type": "code",
   "execution_count": 62,
   "id": "1b1d1444",
   "metadata": {},
   "outputs": [],
   "source": [
    "search_dict = {'criterion':['gini','entropy'], 'max_depth': range(3,10)}"
   ]
  },
  {
   "cell_type": "code",
   "execution_count": 63,
   "id": "729ff7dd",
   "metadata": {},
   "outputs": [],
   "source": [
    "grid = GridSearchCV(dt, param_grid = search_dict)"
   ]
  },
  {
   "cell_type": "code",
   "execution_count": 64,
   "id": "04f2e84f",
   "metadata": {},
   "outputs": [
    {
     "data": {
      "text/plain": [
       "GridSearchCV(estimator=DecisionTreeClassifier(),\n",
       "             param_grid={'criterion': ['gini', 'entropy'],\n",
       "                         'max_depth': range(3, 10)})"
      ]
     },
     "execution_count": 64,
     "metadata": {},
     "output_type": "execute_result"
    }
   ],
   "source": [
    "grid.fit(dai_train_x , dai_train_y)"
   ]
  },
  {
   "cell_type": "code",
   "execution_count": 65,
   "id": "65181d8d",
   "metadata": {},
   "outputs": [
    {
     "data": {
      "text/plain": [
       "{'criterion': 'gini', 'max_depth': 3}"
      ]
     },
     "execution_count": 65,
     "metadata": {},
     "output_type": "execute_result"
    }
   ],
   "source": [
    "grid.best_params_"
   ]
  },
  {
   "cell_type": "code",
   "execution_count": 66,
   "id": "bde9c37e",
   "metadata": {},
   "outputs": [],
   "source": [
    "grid_1 = GridSearchCV(rfc, param_grid = search_dict)"
   ]
  },
  {
   "cell_type": "code",
   "execution_count": 67,
   "id": "90fa72b3",
   "metadata": {},
   "outputs": [],
   "source": [
    "#grid_1.fit(dai_train_x , dai_train_y)"
   ]
  },
  {
   "cell_type": "code",
   "execution_count": 69,
   "id": "170f7532",
   "metadata": {},
   "outputs": [],
   "source": [
    "#grid_1.best_params_"
   ]
  },
  {
   "cell_type": "markdown",
   "id": "13ebe811",
   "metadata": {},
   "source": [
    "# Feature Selection"
   ]
  },
  {
   "cell_type": "code",
   "execution_count": null,
   "id": "87cec7f7",
   "metadata": {},
   "outputs": [],
   "source": [
    "# By using Decision Tree"
   ]
  },
  {
   "cell_type": "code",
   "execution_count": 70,
   "id": "77401860",
   "metadata": {},
   "outputs": [
    {
     "data": {
      "image/png": "[encoded data removed]",
      "text/plain": [
       "<Figure size 1200x600 with 1 Axes>"
      ]
     },
     "metadata": {},
     "output_type": "display_data"
    }
   ],
   "source": [
    "plt.style.use('seaborn-white')\n",
    "\n",
    "#clf = DecisionTreeClassifier(class_weight='balanced', min_weight_fraction_leaf = 0.01)\n",
    "\n",
    "dt.fit(dai_train_x, dai_train_y)\n",
    "importances = dt.feature_importances_\n",
    "feature_names = dai.drop('Diabetes', axis=1).columns\n",
    "indices = np.argsort(importances)\n",
    "\n",
    "def feature_importance_graph(indices, importances, feature_names):\n",
    "    plt.figure(figsize=(12,6))\n",
    "    plt.title(\"Feature Importance\", fontsize=20, color = 'black')\n",
    "    plt.barh(range(len(indices)), importances[indices], color='g',  align=\"center\")\n",
    "    plt.yticks(range(len(indices)), feature_names[indices], rotation='horizontal',fontsize=14,color = 'black')\n",
    "    plt.ylim([-1, len(indices)])\n",
    "    \n",
    "feature_importance_graph(indices, importances, feature_names)\n",
    "plt.show()"
   ]
  },
  {
   "cell_type": "markdown",
   "id": "f83268d1",
   "metadata": {},
   "source": [
    "# Recurrsive Feature Elemination"
   ]
  },
  {
   "cell_type": "code",
   "execution_count": null,
   "id": "05eebeb5",
   "metadata": {},
   "outputs": [],
   "source": [
    "def rfe_selection(data_frame , traget_variable):\n",
    "    from sklearn.feature_selection import RFE\n",
    "    from sklearn.ensemble import RandomForestClassifier\n",
    "    rfc = RandomForestClassifier()\n",
    "    dai_x = dai.drop([traget_variable], axis = 1)\n",
    "    dai_y = dai[traget_variable]\n",
    "    for i in range( 1 , data_frame.shape[1] + 1 ):\n",
    "        rfe = RFE(rfc , n_features_to_select = i)\n",
    "        rfe.fit(dai_x , dai_y)\n",
    "        df1=pd.DataFrame({'cols':dai_x.columns , 'Imp':rfe.support_})\n",
    "        print(\"The\",i,\"most important feature\")\n",
    "        print(\"__________\")\n",
    "        print(df1[df1.Imp == True].iloc[:,0])\n",
    "        print(\"--------------\")"
   ]
  },
  {
   "cell_type": "code",
   "execution_count": null,
   "id": "ea327cce",
   "metadata": {},
   "outputs": [],
   "source": [
    "rfe_selection(dai , 'Diabetes')"
   ]
  },
  {
   "cell_type": "code",
   "execution_count": 71,
   "id": "7cdb7280",
   "metadata": {},
   "outputs": [],
   "source": [
    "Imp_features =['HbA1c_Level','Blood_Glucose_Level','BMI','Age']\n",
    "Imp_features.append('Diabetes')"
   ]
  },
  {
   "cell_type": "code",
   "execution_count": 72,
   "id": "0f047152",
   "metadata": {},
   "outputs": [],
   "source": [
    "dai_2 = dai.loc[: ,Imp_features ]"
   ]
  },
  {
   "cell_type": "code",
   "execution_count": 73,
   "id": "9936f69c",
   "metadata": {},
   "outputs": [
    {
     "data": {
      "text/plain": [
       "Index(['HbA1c_Level', 'Blood_Glucose_Level', 'BMI', 'Age', 'Diabetes'], dtype='object')"
      ]
     },
     "execution_count": 73,
     "metadata": {},
     "output_type": "execute_result"
    }
   ],
   "source": [
    "dai_2.columns"
   ]
  },
  {
   "cell_type": "code",
   "execution_count": 74,
   "id": "d6b3c160",
   "metadata": {},
   "outputs": [
    {
     "name": "stdout",
     "output_type": "stream",
     "text": [
      "Index([], dtype='object')\n"
     ]
    }
   ],
   "source": [
    "print(dai_2.select_dtypes(include ='object').columns)"
   ]
  },
  {
   "cell_type": "markdown",
   "id": "54a1a83c",
   "metadata": {},
   "source": [
    "# Again Random Sampling "
   ]
  },
  {
   "cell_type": "code",
   "execution_count": 101,
   "id": "fc3b4d3c",
   "metadata": {},
   "outputs": [],
   "source": [
    "dai_2_train , dai_2_test = train_test_split(dai_2 , test_size = .2)"
   ]
  },
  {
   "cell_type": "code",
   "execution_count": 102,
   "id": "68d1f81f",
   "metadata": {},
   "outputs": [],
   "source": [
    "dai_2_train_x = dai_2_train.iloc[:,0:-1]\n",
    "dai_2_train_y = dai_2_train.iloc[:,-1]\n",
    "dai_2_test_x = dai_2_test.iloc[:,0:-1]\n",
    "dai_2_test_y = dai_2_test.iloc[:,-1]"
   ]
  },
  {
   "cell_type": "code",
   "execution_count": 103,
   "id": "344722b6",
   "metadata": {},
   "outputs": [
    {
     "name": "stdout",
     "output_type": "stream",
     "text": [
      "0    73216\n",
      "1     6784\n",
      "Name: Diabetes, dtype: int64\n",
      "0    18284\n",
      "1     1716\n",
      "Name: Diabetes, dtype: int64\n"
     ]
    }
   ],
   "source": [
    "print(dai_2_train.Diabetes.value_counts())\n",
    "print(dai_2_test.Diabetes.value_counts())"
   ]
  },
  {
   "cell_type": "code",
   "execution_count": 104,
   "id": "b33ddb23",
   "metadata": {},
   "outputs": [
    {
     "data": {
      "text/plain": [
       "10.672016340822877"
      ]
     },
     "execution_count": 104,
     "metadata": {},
     "output_type": "execute_result"
    }
   ],
   "source": [
    "73146/6854"
   ]
  },
  {
   "cell_type": "code",
   "execution_count": 105,
   "id": "cfca8efe",
   "metadata": {},
   "outputs": [],
   "source": [
    "df2 = dai_2_train[dai_2_train.Diabetes == 1]"
   ]
  },
  {
   "cell_type": "code",
   "execution_count": 106,
   "id": "f3c54018",
   "metadata": {},
   "outputs": [
    {
     "data": {
      "text/html": [
       "<div>\n",
       "<style scoped>\n",
       "    .dataframe tbody tr th:only-of-type {\n",
       "        vertical-align: middle;\n",
       "    }\n",
       "\n",
       "    .dataframe tbody tr th {\n",
       "        vertical-align: top;\n",
       "    }\n",
       "\n",
       "    .dataframe thead th {\n",
       "        text-align: right;\n",
       "    }\n",
       "</style>\n",
       "<table border=\"1\" class=\"dataframe\">\n",
       "  <thead>\n",
       "    <tr style=\"text-align: right;\">\n",
       "      <th></th>\n",
       "      <th>HbA1c_Level</th>\n",
       "      <th>Blood_Glucose_Level</th>\n",
       "      <th>BMI</th>\n",
       "      <th>Age</th>\n",
       "      <th>Diabetes</th>\n",
       "    </tr>\n",
       "  </thead>\n",
       "  <tbody>\n",
       "    <tr>\n",
       "      <th>47053</th>\n",
       "      <td>5.8</td>\n",
       "      <td>140</td>\n",
       "      <td>35.94</td>\n",
       "      <td>62.0</td>\n",
       "      <td>1</td>\n",
       "    </tr>\n",
       "    <tr>\n",
       "      <th>78654</th>\n",
       "      <td>9.0</td>\n",
       "      <td>200</td>\n",
       "      <td>32.20</td>\n",
       "      <td>63.0</td>\n",
       "      <td>1</td>\n",
       "    </tr>\n",
       "    <tr>\n",
       "      <th>87552</th>\n",
       "      <td>8.2</td>\n",
       "      <td>240</td>\n",
       "      <td>36.47</td>\n",
       "      <td>45.0</td>\n",
       "      <td>1</td>\n",
       "    </tr>\n",
       "    <tr>\n",
       "      <th>43064</th>\n",
       "      <td>8.2</td>\n",
       "      <td>130</td>\n",
       "      <td>35.41</td>\n",
       "      <td>63.0</td>\n",
       "      <td>1</td>\n",
       "    </tr>\n",
       "    <tr>\n",
       "      <th>39998</th>\n",
       "      <td>6.2</td>\n",
       "      <td>130</td>\n",
       "      <td>21.60</td>\n",
       "      <td>71.0</td>\n",
       "      <td>1</td>\n",
       "    </tr>\n",
       "    <tr>\n",
       "      <th>...</th>\n",
       "      <td>...</td>\n",
       "      <td>...</td>\n",
       "      <td>...</td>\n",
       "      <td>...</td>\n",
       "      <td>...</td>\n",
       "    </tr>\n",
       "    <tr>\n",
       "      <th>6563</th>\n",
       "      <td>9.0</td>\n",
       "      <td>280</td>\n",
       "      <td>27.32</td>\n",
       "      <td>75.0</td>\n",
       "      <td>1</td>\n",
       "    </tr>\n",
       "    <tr>\n",
       "      <th>90621</th>\n",
       "      <td>5.7</td>\n",
       "      <td>126</td>\n",
       "      <td>31.46</td>\n",
       "      <td>75.0</td>\n",
       "      <td>1</td>\n",
       "    </tr>\n",
       "    <tr>\n",
       "      <th>44840</th>\n",
       "      <td>6.1</td>\n",
       "      <td>240</td>\n",
       "      <td>34.07</td>\n",
       "      <td>53.0</td>\n",
       "      <td>1</td>\n",
       "    </tr>\n",
       "    <tr>\n",
       "      <th>98382</th>\n",
       "      <td>5.7</td>\n",
       "      <td>220</td>\n",
       "      <td>26.55</td>\n",
       "      <td>79.0</td>\n",
       "      <td>1</td>\n",
       "    </tr>\n",
       "    <tr>\n",
       "      <th>27724</th>\n",
       "      <td>6.0</td>\n",
       "      <td>280</td>\n",
       "      <td>28.00</td>\n",
       "      <td>33.0</td>\n",
       "      <td>1</td>\n",
       "    </tr>\n",
       "  </tbody>\n",
       "</table>\n",
       "<p>6784 rows × 5 columns</p>\n",
       "</div>"
      ],
      "text/plain": [
       "       HbA1c_Level  Blood_Glucose_Level    BMI   Age  Diabetes\n",
       "47053          5.8                  140  35.94  62.0         1\n",
       "78654          9.0                  200  32.20  63.0         1\n",
       "87552          8.2                  240  36.47  45.0         1\n",
       "43064          8.2                  130  35.41  63.0         1\n",
       "39998          6.2                  130  21.60  71.0         1\n",
       "...            ...                  ...    ...   ...       ...\n",
       "6563           9.0                  280  27.32  75.0         1\n",
       "90621          5.7                  126  31.46  75.0         1\n",
       "44840          6.1                  240  34.07  53.0         1\n",
       "98382          5.7                  220  26.55  79.0         1\n",
       "27724          6.0                  280  28.00  33.0         1\n",
       "\n",
       "[6784 rows x 5 columns]"
      ]
     },
     "execution_count": 106,
     "metadata": {},
     "output_type": "execute_result"
    }
   ],
   "source": [
    "dai_2_train[dai_2_train.Diabetes == 1]"
   ]
  },
  {
   "cell_type": "code",
   "execution_count": 107,
   "id": "7e4117d3",
   "metadata": {},
   "outputs": [
    {
     "data": {
      "text/html": [
       "<div>\n",
       "<style scoped>\n",
       "    .dataframe tbody tr th:only-of-type {\n",
       "        vertical-align: middle;\n",
       "    }\n",
       "\n",
       "    .dataframe tbody tr th {\n",
       "        vertical-align: top;\n",
       "    }\n",
       "\n",
       "    .dataframe thead th {\n",
       "        text-align: right;\n",
       "    }\n",
       "</style>\n",
       "<table border=\"1\" class=\"dataframe\">\n",
       "  <thead>\n",
       "    <tr style=\"text-align: right;\">\n",
       "      <th></th>\n",
       "      <th>HbA1c_Level</th>\n",
       "      <th>Blood_Glucose_Level</th>\n",
       "      <th>BMI</th>\n",
       "      <th>Age</th>\n",
       "      <th>Diabetes</th>\n",
       "    </tr>\n",
       "  </thead>\n",
       "  <tbody>\n",
       "    <tr>\n",
       "      <th>50532</th>\n",
       "      <td>5.7</td>\n",
       "      <td>126</td>\n",
       "      <td>28.43</td>\n",
       "      <td>76.0</td>\n",
       "      <td>1</td>\n",
       "    </tr>\n",
       "    <tr>\n",
       "      <th>67494</th>\n",
       "      <td>6.2</td>\n",
       "      <td>280</td>\n",
       "      <td>27.32</td>\n",
       "      <td>62.0</td>\n",
       "      <td>1</td>\n",
       "    </tr>\n",
       "    <tr>\n",
       "      <th>45005</th>\n",
       "      <td>6.5</td>\n",
       "      <td>160</td>\n",
       "      <td>32.19</td>\n",
       "      <td>54.0</td>\n",
       "      <td>1</td>\n",
       "    </tr>\n",
       "    <tr>\n",
       "      <th>66378</th>\n",
       "      <td>6.6</td>\n",
       "      <td>280</td>\n",
       "      <td>31.52</td>\n",
       "      <td>72.0</td>\n",
       "      <td>1</td>\n",
       "    </tr>\n",
       "    <tr>\n",
       "      <th>76172</th>\n",
       "      <td>6.1</td>\n",
       "      <td>140</td>\n",
       "      <td>27.32</td>\n",
       "      <td>57.0</td>\n",
       "      <td>1</td>\n",
       "    </tr>\n",
       "    <tr>\n",
       "      <th>...</th>\n",
       "      <td>...</td>\n",
       "      <td>...</td>\n",
       "      <td>...</td>\n",
       "      <td>...</td>\n",
       "      <td>...</td>\n",
       "    </tr>\n",
       "    <tr>\n",
       "      <th>30537</th>\n",
       "      <td>5.7</td>\n",
       "      <td>280</td>\n",
       "      <td>20.30</td>\n",
       "      <td>69.0</td>\n",
       "      <td>1</td>\n",
       "    </tr>\n",
       "    <tr>\n",
       "      <th>4237</th>\n",
       "      <td>8.2</td>\n",
       "      <td>260</td>\n",
       "      <td>32.42</td>\n",
       "      <td>80.0</td>\n",
       "      <td>1</td>\n",
       "    </tr>\n",
       "    <tr>\n",
       "      <th>38174</th>\n",
       "      <td>7.5</td>\n",
       "      <td>155</td>\n",
       "      <td>27.32</td>\n",
       "      <td>63.0</td>\n",
       "      <td>1</td>\n",
       "    </tr>\n",
       "    <tr>\n",
       "      <th>44941</th>\n",
       "      <td>7.0</td>\n",
       "      <td>160</td>\n",
       "      <td>33.17</td>\n",
       "      <td>76.0</td>\n",
       "      <td>1</td>\n",
       "    </tr>\n",
       "    <tr>\n",
       "      <th>36708</th>\n",
       "      <td>6.5</td>\n",
       "      <td>160</td>\n",
       "      <td>33.33</td>\n",
       "      <td>57.0</td>\n",
       "      <td>1</td>\n",
       "    </tr>\n",
       "  </tbody>\n",
       "</table>\n",
       "<p>1716 rows × 5 columns</p>\n",
       "</div>"
      ],
      "text/plain": [
       "       HbA1c_Level  Blood_Glucose_Level    BMI   Age  Diabetes\n",
       "50532          5.7                  126  28.43  76.0         1\n",
       "67494          6.2                  280  27.32  62.0         1\n",
       "45005          6.5                  160  32.19  54.0         1\n",
       "66378          6.6                  280  31.52  72.0         1\n",
       "76172          6.1                  140  27.32  57.0         1\n",
       "...            ...                  ...    ...   ...       ...\n",
       "30537          5.7                  280  20.30  69.0         1\n",
       "4237           8.2                  260  32.42  80.0         1\n",
       "38174          7.5                  155  27.32  63.0         1\n",
       "44941          7.0                  160  33.17  76.0         1\n",
       "36708          6.5                  160  33.33  57.0         1\n",
       "\n",
       "[1716 rows x 5 columns]"
      ]
     },
     "execution_count": 107,
     "metadata": {},
     "output_type": "execute_result"
    }
   ],
   "source": [
    "dai_2_test[dai_2_test.Diabetes == 1]"
   ]
  },
  {
   "cell_type": "code",
   "execution_count": 108,
   "id": "d98347a0",
   "metadata": {},
   "outputs": [],
   "source": [
    "dai_2_train1 = pd.concat([df2,df2,df2,df2,df2,df2,df2,df2,df2,df2,dai_2_train], axis = 0)"
   ]
  },
  {
   "cell_type": "code",
   "execution_count": 109,
   "id": "3c732c46",
   "metadata": {},
   "outputs": [
    {
     "data": {
      "text/plain": [
       "1    74624\n",
       "0    73216\n",
       "Name: Diabetes, dtype: int64"
      ]
     },
     "execution_count": 109,
     "metadata": {},
     "output_type": "execute_result"
    }
   ],
   "source": [
    "dai_2_train1.Diabetes.value_counts()"
   ]
  },
  {
   "cell_type": "code",
   "execution_count": 110,
   "id": "1a15fbfc",
   "metadata": {},
   "outputs": [],
   "source": [
    "dai_2_train_x = dai_2_train1.iloc[:,0:-1]\n",
    "dai_2_train_y = dai_2_train1.iloc[:,-1]"
   ]
  },
  {
   "cell_type": "markdown",
   "id": "dc1cbc67",
   "metadata": {},
   "source": [
    "# Again Build The Model"
   ]
  },
  {
   "cell_type": "code",
   "execution_count": 111,
   "id": "51b82739",
   "metadata": {},
   "outputs": [],
   "source": [
    "from sklearn.tree import DecisionTreeClassifier\n",
    "dt_2 = DecisionTreeClassifier(criterion='gini',max_depth=4,class_weight='balanced')\n",
    "\n",
    "from sklearn.ensemble import RandomForestClassifier\n",
    "rfc_2 = RandomForestClassifier(n_estimators=110,criterion='gini',max_depth=4,class_weight='balanced')\n",
    "\n",
    "from sklearn.ensemble import GradientBoostingClassifier\n",
    "gdbc_2 = GradientBoostingClassifier(n_estimators=135)\n",
    "\n",
    "from sklearn.linear_model import LogisticRegression\n",
    "logreg_2 = LogisticRegression()\n",
    "\n",
    "from sklearn.naive_bayes import MultinomialNB\n",
    "nb_2 = MultinomialNB()\n",
    "\n",
    "#from sklearn.svm import SVC\n",
    "from sklearn.neighbors import KNeighborsClassifier\n",
    "knn_2 = KNeighborsClassifier(n_neighbors=289)"
   ]
  },
  {
   "cell_type": "code",
   "execution_count": 112,
   "id": "a85e208f",
   "metadata": {},
   "outputs": [
    {
     "data": {
      "text/plain": [
       "DecisionTreeClassifier(class_weight='balanced', max_depth=4)"
      ]
     },
     "execution_count": 112,
     "metadata": {},
     "output_type": "execute_result"
    }
   ],
   "source": [
    "dt_2.fit(dai_2_train_x , dai_2_train_y)"
   ]
  },
  {
   "cell_type": "code",
   "execution_count": 113,
   "id": "6628edc2",
   "metadata": {},
   "outputs": [
    {
     "data": {
      "text/plain": [
       "RandomForestClassifier(class_weight='balanced', max_depth=4, n_estimators=110)"
      ]
     },
     "execution_count": 113,
     "metadata": {},
     "output_type": "execute_result"
    }
   ],
   "source": [
    "rfc_2.fit(dai_2_train_x , dai_2_train_y)"
   ]
  },
  {
   "cell_type": "code",
   "execution_count": 114,
   "id": "3ceebb5e",
   "metadata": {},
   "outputs": [
    {
     "data": {
      "text/plain": [
       "GradientBoostingClassifier(n_estimators=135)"
      ]
     },
     "execution_count": 114,
     "metadata": {},
     "output_type": "execute_result"
    }
   ],
   "source": [
    "gdbc_2.fit(dai_2_train_x , dai_2_train_y)"
   ]
  },
  {
   "cell_type": "code",
   "execution_count": 115,
   "id": "9ba78931",
   "metadata": {},
   "outputs": [
    {
     "data": {
      "text/plain": [
       "LogisticRegression()"
      ]
     },
     "execution_count": 115,
     "metadata": {},
     "output_type": "execute_result"
    }
   ],
   "source": [
    "logreg_2.fit(dai_2_train_x , dai_2_train_y)"
   ]
  },
  {
   "cell_type": "code",
   "execution_count": 116,
   "id": "87d5d4d8",
   "metadata": {},
   "outputs": [
    {
     "data": {
      "text/plain": [
       "KNeighborsClassifier(n_neighbors=289)"
      ]
     },
     "execution_count": 116,
     "metadata": {},
     "output_type": "execute_result"
    }
   ],
   "source": [
    "knn_2.fit(dai_2_train_x , dai_2_train_y)"
   ]
  },
  {
   "cell_type": "code",
   "execution_count": 117,
   "id": "540e28aa",
   "metadata": {},
   "outputs": [
    {
     "data": {
      "text/plain": [
       "MultinomialNB()"
      ]
     },
     "execution_count": 117,
     "metadata": {},
     "output_type": "execute_result"
    }
   ],
   "source": [
    "nb_2.fit(dai_2_train_x , dai_2_train_y)"
   ]
  },
  {
   "cell_type": "code",
   "execution_count": 118,
   "id": "e39ddb16",
   "metadata": {},
   "outputs": [],
   "source": [
    "pred_dt2 = dt_2.predict(dai_2_test_x)"
   ]
  },
  {
   "cell_type": "code",
   "execution_count": 119,
   "id": "a31d461e",
   "metadata": {},
   "outputs": [],
   "source": [
    "pred_rfc2 = rfc_2.predict(dai_2_test_x)"
   ]
  },
  {
   "cell_type": "code",
   "execution_count": 120,
   "id": "fa6f8030",
   "metadata": {},
   "outputs": [],
   "source": [
    "pred_gdbc2 = gdbc_2.predict(dai_2_test_x)"
   ]
  },
  {
   "cell_type": "code",
   "execution_count": 121,
   "id": "69fa6088",
   "metadata": {},
   "outputs": [],
   "source": [
    "pred_logreg2 = logreg_2.predict(dai_2_test_x)"
   ]
  },
  {
   "cell_type": "code",
   "execution_count": 122,
   "id": "b9d6fa50",
   "metadata": {},
   "outputs": [
    {
     "name": "stderr",
     "output_type": "stream",
     "text": [
      "C:\\ProgramData\\Anaconda3\\lib\\site-packages\\sklearn\\neighbors\\_classification.py:228: FutureWarning: Unlike other reduction functions (e.g. `skew`, `kurtosis`), the default behavior of `mode` typically preserves the axis it acts along. In SciPy 1.11.0, this behavior will change: the default value of `keepdims` will become False, the `axis` over which the statistic is taken will be eliminated, and the value None will no longer be accepted. Set `keepdims` to True or False to avoid this warning.\n",
      "  mode, _ = stats.mode(_y[neigh_ind, k], axis=1)\n"
     ]
    }
   ],
   "source": [
    "pred_knn2 = knn_2.predict(dai_2_test_x)"
   ]
  },
  {
   "cell_type": "code",
   "execution_count": 123,
   "id": "c805eca1",
   "metadata": {},
   "outputs": [],
   "source": [
    "pred_nb2 = nb_2.predict(dai_2_test_x)"
   ]
  },
  {
   "cell_type": "code",
   "execution_count": 124,
   "id": "0617b8aa",
   "metadata": {},
   "outputs": [],
   "source": [
    "from sklearn.metrics import accuracy_score , confusion_matrix , precision_score  , recall_score ,f1_score\n",
    "\n",
    "list_1 = [confusion_matrix ,accuracy_score ,recall_score , precision_score ,f1_score  ]"
   ]
  },
  {
   "cell_type": "code",
   "execution_count": 125,
   "id": "0beb973f",
   "metadata": {},
   "outputs": [],
   "source": [
    "list_2 = [(pred_rfc2 , \"RandomForestClassifier\"),(pred_dt2 , \"Decision Tree\"),(pred_gdbc2 , \"Grandient_Boosting_Classifier\"),\n",
    "          (pred_logreg2 , \"Logistic Regression\"),(pred_knn2 , \"K_Nearest_Neighbour\"),(pred_nb2 , \"Naive Bayes\")]"
   ]
  },
  {
   "cell_type": "code",
   "execution_count": 126,
   "id": "622b3a72",
   "metadata": {
    "scrolled": false
   },
   "outputs": [
    {
     "name": "stdout",
     "output_type": "stream",
     "text": [
      "[[15509  2775]\n",
      " [  110  1606]] <function confusion_matrix at 0x000002949D4C81F0> RandomForestClassifier\n",
      "_______________________________-\n",
      "0.85575 <function accuracy_score at 0x000002949D4C8160> RandomForestClassifier\n",
      "_______________________________-\n",
      "0.9358974358974359 <function recall_score at 0x000002949D4C8940> RandomForestClassifier\n",
      "_______________________________-\n",
      "0.36658297192421824 <function precision_score at 0x000002949D4C88B0> RandomForestClassifier\n",
      "_______________________________-\n",
      "0.5268164671149745 <function f1_score at 0x000002949D4C8550> RandomForestClassifier\n",
      "_______________________________-\n",
      "[[13725  4559]\n",
      " [   87  1629]] <function confusion_matrix at 0x000002949D4C81F0> Decision Tree\n",
      "_______________________________-\n",
      "0.7677 <function accuracy_score at 0x000002949D4C8160> Decision Tree\n",
      "_______________________________-\n",
      "0.9493006993006993 <function recall_score at 0x000002949D4C8940> Decision Tree\n",
      "_______________________________-\n",
      "0.263251454427925 <function precision_score at 0x000002949D4C88B0> Decision Tree\n",
      "_______________________________-\n",
      "0.4121963562753036 <function f1_score at 0x000002949D4C8550> Decision Tree\n",
      "_______________________________-\n",
      "[[16243  2041]\n",
      " [  116  1600]] <function confusion_matrix at 0x000002949D4C81F0> Grandient_Boosting_Classifier\n",
      "_______________________________-\n",
      "0.89215 <function accuracy_score at 0x000002949D4C8160> Grandient_Boosting_Classifier\n",
      "_______________________________-\n",
      "0.9324009324009324 <function recall_score at 0x000002949D4C8940> Grandient_Boosting_Classifier\n",
      "_______________________________-\n",
      "0.43943971436418566 <function precision_score at 0x000002949D4C88B0> Grandient_Boosting_Classifier\n",
      "_______________________________-\n",
      "0.5973492626470038 <function f1_score at 0x000002949D4C8550> Grandient_Boosting_Classifier\n",
      "_______________________________-\n",
      "[[16071  2213]\n",
      " [  208  1508]] <function confusion_matrix at 0x000002949D4C81F0> Logistic Regression\n",
      "_______________________________-\n",
      "0.87895 <function accuracy_score at 0x000002949D4C8160> Logistic Regression\n",
      "_______________________________-\n",
      "0.8787878787878788 <function recall_score at 0x000002949D4C8940> Logistic Regression\n",
      "_______________________________-\n",
      "0.40526740123622684 <function precision_score at 0x000002949D4C88B0> Logistic Regression\n",
      "_______________________________-\n",
      "0.5547176751885231 <function f1_score at 0x000002949D4C8550> Logistic Regression\n",
      "_______________________________-\n",
      "[[15309  2975]\n",
      " [  192  1524]] <function confusion_matrix at 0x000002949D4C81F0> K_Nearest_Neighbour\n",
      "_______________________________-\n",
      "0.84165 <function accuracy_score at 0x000002949D4C8160> K_Nearest_Neighbour\n",
      "_______________________________-\n",
      "0.8881118881118881 <function recall_score at 0x000002949D4C8940> K_Nearest_Neighbour\n",
      "_______________________________-\n",
      "0.3387419426539231 <function precision_score at 0x000002949D4C88B0> K_Nearest_Neighbour\n",
      "_______________________________-\n",
      "0.4904263877715205 <function f1_score at 0x000002949D4C8550> K_Nearest_Neighbour\n",
      "_______________________________-\n",
      "[[11754  6530]\n",
      " [  536  1180]] <function confusion_matrix at 0x000002949D4C81F0> Naive Bayes\n",
      "_______________________________-\n",
      "0.6467 <function accuracy_score at 0x000002949D4C8160> Naive Bayes\n",
      "_______________________________-\n",
      "0.6876456876456877 <function recall_score at 0x000002949D4C8940> Naive Bayes\n",
      "_______________________________-\n",
      "0.15304798962386512 <function precision_score at 0x000002949D4C88B0> Naive Bayes\n",
      "_______________________________-\n",
      "0.2503713133884999 <function f1_score at 0x000002949D4C8550> Naive Bayes\n",
      "_______________________________-\n"
     ]
    }
   ],
   "source": [
    "for j , k in list_2:\n",
    "    for i in list_1:\n",
    "        print(i(dai_2_test_y , j) , i , k)\n",
    "        print(\"_______________________________-\")"
   ]
  },
  {
   "cell_type": "code",
   "execution_count": null,
   "id": "af225965",
   "metadata": {},
   "outputs": [],
   "source": [
    "# finally got our best Model which gives the good result for class one"
   ]
  },
  {
   "cell_type": "code",
   "execution_count": null,
   "id": "7e09ec08",
   "metadata": {},
   "outputs": [],
   "source": [
    "# RandomForestClassifier gives the good result for the both class also\n",
    "# RandomForestClassifier have the Highest Accuracy among the all Algorithms"
   ]
  },
  {
   "cell_type": "code",
   "execution_count": null,
   "id": "5f15bfa5",
   "metadata": {},
   "outputs": [],
   "source": []
  },
  {
   "cell_type": "code",
   "execution_count": null,
   "id": "77ac126a",
   "metadata": {},
   "outputs": [],
   "source": []
  },
  {
   "cell_type": "code",
   "execution_count": null,
   "id": "2a6d7f23",
   "metadata": {},
   "outputs": [],
   "source": []
  }
 ],
 "metadata": {
  "kernelspec": {
   "display_name": "Python 3 (ipykernel)",
   "language": "python",
   "name": "python3"
  },
  "language_info": {
   "codemirror_mode": {
    "name": "ipython",
    "version": 3
   },
   "file_extension": ".py",
   "mimetype": "text/x-python",
   "name": "python",
   "nbconvert_exporter": "python",
   "pygments_lexer": "ipython3",
   "version": "3.9.13"
  }
 },
 "nbformat": 4,
 "nbformat_minor": 5
}
